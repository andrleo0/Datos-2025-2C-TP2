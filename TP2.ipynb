{
  "nbformat": 4,
  "nbformat_minor": 0,
  "metadata": {
    "colab": {
      "provenance": [],
      "collapsed_sections": [
        "u-ueVaHnfRgn"
      ]
    },
    "kernelspec": {
      "name": "python3",
      "display_name": "Python 3"
    },
    "language_info": {
      "name": "python"
    }
  },
  "cells": [
    {
      "cell_type": "markdown",
      "source": [
        "#Carga de Datos"
      ],
      "metadata": {
        "id": "lj_G_U5kz6yF"
      }
    },
    {
      "cell_type": "markdown",
      "source": [
        "##Librerias spark"
      ],
      "metadata": {
        "id": "2JFrHdXey8MC"
      }
    },
    {
      "cell_type": "code",
      "execution_count": null,
      "metadata": {
        "colab": {
          "base_uri": "https://localhost:8080/"
        },
        "id": "OjzBx3k9gudA",
        "outputId": "58d56644-11d0-41a5-88ea-8c2abd37449a"
      },
      "outputs": [
        {
          "output_type": "stream",
          "name": "stdout",
          "text": [
            "Requirement already satisfied: pyspark in /usr/local/lib/python3.12/dist-packages (3.5.1)\n",
            "Requirement already satisfied: py4j==0.10.9.7 in /usr/local/lib/python3.12/dist-packages (from pyspark) (0.10.9.7)\n",
            "\u001b[2K     \u001b[90m━━━━━━━━━━━━━━━━━━━━━━━━━━━━━━━━━━━━━━\u001b[0m \u001b[32m987.4/987.4 kB\u001b[0m \u001b[31m12.4 MB/s\u001b[0m eta \u001b[36m0:00:00\u001b[0m\n",
            "\u001b[?25h  Preparing metadata (setup.py) ... \u001b[?25l\u001b[?25hdone\n",
            "  Building wheel for PyDrive (setup.py) ... \u001b[?25l\u001b[?25hdone\n",
            "Hit:1 https://cli.github.com/packages stable InRelease\n",
            "Get:2 https://cloud.r-project.org/bin/linux/ubuntu jammy-cran40/ InRelease [3,632 B]\n",
            "Hit:3 http://archive.ubuntu.com/ubuntu jammy InRelease\n",
            "Get:4 http://security.ubuntu.com/ubuntu jammy-security InRelease [129 kB]\n",
            "Get:5 https://r2u.stat.illinois.edu/ubuntu jammy InRelease [6,555 B]\n",
            "Get:6 http://archive.ubuntu.com/ubuntu jammy-updates InRelease [128 kB]\n",
            "Hit:7 https://ppa.launchpadcontent.net/deadsnakes/ppa/ubuntu jammy InRelease\n",
            "Get:8 https://developer.download.nvidia.com/compute/cuda/repos/ubuntu2204/x86_64  InRelease [1,581 B]\n",
            "Hit:9 https://ppa.launchpadcontent.net/graphics-drivers/ppa/ubuntu jammy InRelease\n",
            "Hit:10 https://ppa.launchpadcontent.net/ubuntugis/ppa/ubuntu jammy InRelease\n",
            "Get:11 http://archive.ubuntu.com/ubuntu jammy-backports InRelease [127 kB]\n",
            "Get:12 https://r2u.stat.illinois.edu/ubuntu jammy/main all Packages [9,322 kB]\n",
            "Get:13 https://developer.download.nvidia.com/compute/cuda/repos/ubuntu2204/x86_64  Packages [2,065 kB]\n",
            "Get:14 https://r2u.stat.illinois.edu/ubuntu jammy/main amd64 Packages [2,809 kB]\n",
            "Get:15 http://archive.ubuntu.com/ubuntu jammy-updates/main amd64 Packages [3,738 kB]\n",
            "Get:16 http://archive.ubuntu.com/ubuntu jammy-updates/universe amd64 Packages [1,580 kB]\n",
            "Get:17 http://archive.ubuntu.com/ubuntu jammy-backports/main amd64 Packages [83.9 kB]\n",
            "Get:18 http://archive.ubuntu.com/ubuntu jammy-backports/universe amd64 Packages [35.2 kB]\n",
            "Fetched 20.0 MB in 3s (7,685 kB/s)\n",
            "Reading package lists... Done\n",
            "Building dependency tree... Done\n",
            "Reading state information... Done\n",
            "40 packages can be upgraded. Run 'apt list --upgradable' to see them.\n",
            "\u001b[1;33mW: \u001b[0mSkipping acquire of configured file 'main/source/Sources' as repository 'https://r2u.stat.illinois.edu/ubuntu jammy InRelease' does not seem to provide it (sources.list entry misspelt?)\u001b[0m\n",
            "The following additional packages will be installed:\n",
            "  libxtst6 openjdk-8-jre-headless\n",
            "Suggested packages:\n",
            "  openjdk-8-demo openjdk-8-source libnss-mdns fonts-dejavu-extra fonts-nanum\n",
            "  fonts-ipafont-gothic fonts-ipafont-mincho fonts-wqy-microhei\n",
            "  fonts-wqy-zenhei fonts-indic\n",
            "The following NEW packages will be installed:\n",
            "  libxtst6 openjdk-8-jdk-headless openjdk-8-jre-headless\n",
            "0 upgraded, 3 newly installed, 0 to remove and 40 not upgraded.\n",
            "Need to get 39.6 MB of archives.\n",
            "After this operation, 144 MB of additional disk space will be used.\n",
            "Selecting previously unselected package libxtst6:amd64.\n",
            "(Reading database ... 126675 files and directories currently installed.)\n",
            "Preparing to unpack .../libxtst6_2%3a1.2.3-1build4_amd64.deb ...\n",
            "Unpacking libxtst6:amd64 (2:1.2.3-1build4) ...\n",
            "Selecting previously unselected package openjdk-8-jre-headless:amd64.\n",
            "Preparing to unpack .../openjdk-8-jre-headless_8u462-ga~us1-0ubuntu2~22.04.2_amd64.deb ...\n",
            "Unpacking openjdk-8-jre-headless:amd64 (8u462-ga~us1-0ubuntu2~22.04.2) ...\n",
            "Selecting previously unselected package openjdk-8-jdk-headless:amd64.\n",
            "Preparing to unpack .../openjdk-8-jdk-headless_8u462-ga~us1-0ubuntu2~22.04.2_amd64.deb ...\n",
            "Unpacking openjdk-8-jdk-headless:amd64 (8u462-ga~us1-0ubuntu2~22.04.2) ...\n",
            "Setting up libxtst6:amd64 (2:1.2.3-1build4) ...\n",
            "Setting up openjdk-8-jre-headless:amd64 (8u462-ga~us1-0ubuntu2~22.04.2) ...\n",
            "update-alternatives: using /usr/lib/jvm/java-8-openjdk-amd64/jre/bin/orbd to provide /usr/bin/orbd (orbd) in auto mode\n",
            "update-alternatives: using /usr/lib/jvm/java-8-openjdk-amd64/jre/bin/servertool to provide /usr/bin/servertool (servertool) in auto mode\n",
            "update-alternatives: using /usr/lib/jvm/java-8-openjdk-amd64/jre/bin/tnameserv to provide /usr/bin/tnameserv (tnameserv) in auto mode\n",
            "Setting up openjdk-8-jdk-headless:amd64 (8u462-ga~us1-0ubuntu2~22.04.2) ...\n",
            "update-alternatives: using /usr/lib/jvm/java-8-openjdk-amd64/bin/clhsdb to provide /usr/bin/clhsdb (clhsdb) in auto mode\n",
            "update-alternatives: using /usr/lib/jvm/java-8-openjdk-amd64/bin/extcheck to provide /usr/bin/extcheck (extcheck) in auto mode\n",
            "update-alternatives: using /usr/lib/jvm/java-8-openjdk-amd64/bin/hsdb to provide /usr/bin/hsdb (hsdb) in auto mode\n",
            "update-alternatives: using /usr/lib/jvm/java-8-openjdk-amd64/bin/idlj to provide /usr/bin/idlj (idlj) in auto mode\n",
            "update-alternatives: using /usr/lib/jvm/java-8-openjdk-amd64/bin/javah to provide /usr/bin/javah (javah) in auto mode\n",
            "update-alternatives: using /usr/lib/jvm/java-8-openjdk-amd64/bin/jhat to provide /usr/bin/jhat (jhat) in auto mode\n",
            "update-alternatives: using /usr/lib/jvm/java-8-openjdk-amd64/bin/jsadebugd to provide /usr/bin/jsadebugd (jsadebugd) in auto mode\n",
            "update-alternatives: using /usr/lib/jvm/java-8-openjdk-amd64/bin/native2ascii to provide /usr/bin/native2ascii (native2ascii) in auto mode\n",
            "update-alternatives: using /usr/lib/jvm/java-8-openjdk-amd64/bin/schemagen to provide /usr/bin/schemagen (schemagen) in auto mode\n",
            "update-alternatives: using /usr/lib/jvm/java-8-openjdk-amd64/bin/wsgen to provide /usr/bin/wsgen (wsgen) in auto mode\n",
            "update-alternatives: using /usr/lib/jvm/java-8-openjdk-amd64/bin/wsimport to provide /usr/bin/wsimport (wsimport) in auto mode\n",
            "update-alternatives: using /usr/lib/jvm/java-8-openjdk-amd64/bin/xjc to provide /usr/bin/xjc (xjc) in auto mode\n",
            "Processing triggers for libc-bin (2.35-0ubuntu3.8) ...\n",
            "/sbin/ldconfig.real: /usr/local/lib/libumf.so.0 is not a symbolic link\n",
            "\n",
            "/sbin/ldconfig.real: /usr/local/lib/libtbbmalloc.so.2 is not a symbolic link\n",
            "\n",
            "/sbin/ldconfig.real: /usr/local/lib/libtbbbind.so.3 is not a symbolic link\n",
            "\n",
            "/sbin/ldconfig.real: /usr/local/lib/libur_loader.so.0 is not a symbolic link\n",
            "\n",
            "/sbin/ldconfig.real: /usr/local/lib/libur_adapter_level_zero.so.0 is not a symbolic link\n",
            "\n",
            "/sbin/ldconfig.real: /usr/local/lib/libtbbbind_2_5.so.3 is not a symbolic link\n",
            "\n",
            "/sbin/ldconfig.real: /usr/local/lib/libtcm_debug.so.1 is not a symbolic link\n",
            "\n",
            "/sbin/ldconfig.real: /usr/local/lib/libur_adapter_level_zero_v2.so.0 is not a symbolic link\n",
            "\n",
            "/sbin/ldconfig.real: /usr/local/lib/libtbb.so.12 is not a symbolic link\n",
            "\n",
            "/sbin/ldconfig.real: /usr/local/lib/libtbbmalloc_proxy.so.2 is not a symbolic link\n",
            "\n",
            "/sbin/ldconfig.real: /usr/local/lib/libtbbbind_2_0.so.3 is not a symbolic link\n",
            "\n",
            "/sbin/ldconfig.real: /usr/local/lib/libhwloc.so.15 is not a symbolic link\n",
            "\n",
            "/sbin/ldconfig.real: /usr/local/lib/libur_adapter_opencl.so.0 is not a symbolic link\n",
            "\n",
            "/sbin/ldconfig.real: /usr/local/lib/libtcm.so.1 is not a symbolic link\n",
            "\n"
          ]
        }
      ],
      "source": [
        "!pip install pyspark\n",
        "!pip install -U -q PyDrive\n",
        "!apt update\n",
        "!apt install openjdk-8-jdk-headless -qq\n",
        "#!apt install default-jre\n",
        "#!apt install default-jdk\n",
        "import os\n",
        "os.environ[\"JAVA_HOME\"] = \"/usr/lib/jvm/java-8-openjdk-amd64\""
      ]
    },
    {
      "cell_type": "code",
      "source": [
        "# from pydrive.auth import GoogleAuth\n",
        "# from pydrive.drive import GoogleDrive\n",
        "# from google.colab import auth\n",
        "# from oauth2client.client import GoogleCredentials\n",
        "\n",
        "from pyspark.sql import *\n",
        "from pyspark.sql.functions import *\n",
        "from pyspark import SparkContext\n",
        "from pyspark.sql import SQLContext\n",
        "import pandas as pd"
      ],
      "metadata": {
        "id": "rom9sS2Sg0h5"
      },
      "execution_count": 2,
      "outputs": []
    },
    {
      "cell_type": "markdown",
      "source": [
        "##Datos panda"
      ],
      "metadata": {
        "id": "fypXCsc8zFtx"
      }
    },
    {
      "cell_type": "code",
      "source": [
        "# auth.authenticate_user()\n",
        "# gauth = GoogleAuth()\n",
        "# gauth.credentials = GoogleCredentials.get_application_default()\n",
        "# drive = GoogleDrive(gauth)\n",
        "\n",
        "path = 'drive/MyDrive/TPs-Datos-2025-2C/data'\n",
        "\n",
        "categories = pd.read_csv(path + '/categories.csv')\n",
        "customers = pd.read_csv(path + '/customers.csv')\n",
        "# inventory_logs = pd.read_csv(path + '/inventory_logs.csv')\n",
        "order_items = pd.read_csv(path + '/order_items.csv')\n",
        "orders = pd.read_csv(path + '/orders.csv')\n",
        "products = pd.read_csv(path + '/products.csv')\n",
        "# reviews = pd.read_csv(path + '/reviews.csv')"
      ],
      "metadata": {
        "id": "XkN_9ryCg3Qm"
      },
      "execution_count": 98,
      "outputs": []
    },
    {
      "cell_type": "markdown",
      "source": [
        "##Datos Spark"
      ],
      "metadata": {
        "id": "uzgj5dtWzN6q"
      }
    },
    {
      "cell_type": "code",
      "source": [
        "spark = SparkSession.builder.getOrCreate()\n",
        "sc = spark.sparkContext"
      ],
      "metadata": {
        "id": "cxQfFpjzioEc"
      },
      "execution_count": 4,
      "outputs": []
    },
    {
      "cell_type": "code",
      "source": [
        "sqlContext = SQLContext(sc)\n",
        "path = 'drive/MyDrive/TPs-Datos-2025-2C/data'\n",
        "\n",
        "# DataFrames de Spark\n",
        "categoriesSpark = sqlContext.read.csv(path + '/categories.csv', header=True, inferSchema=True)\n",
        "customersSpark = sqlContext.read.csv(path + '/customers.csv', header=True, inferSchema=True)\n",
        "# inventoryLogsSpark = sqlContext.read.csv(path + '/inventory_logs.csv', header=True, inferSchema=True)\n",
        "orderItemsSpark = sqlContext.read.csv(path + '/order_items.csv', header=True, inferSchema=True)\n",
        "ordersSpark = sqlContext.read.csv(path + '/orders.csv', header=True, inferSchema=True)\n",
        "productsSpark = sqlContext.read.csv(path + '/products.csv', header=True, inferSchema=True)\n",
        "# reviewsSpark = sqlContext.read.csv(path + '/reviews.csv', header=True, inferSchema=True)\n",
        "\n",
        "# RDDs asociados\n",
        "categoriesRDD = categoriesSpark.rdd\n",
        "customersRDD = customersSpark.rdd\n",
        "# inventoryLogsRDD = inventoryLogsSpark.rdd\n",
        "orderItemsRDD = orderItemsSpark.rdd\n",
        "ordersRDD = ordersSpark.rdd\n",
        "productsRDD = productsSpark.rdd\n",
        "# reviewsRDD = reviewsSpark.rdd\n",
        "\n"
      ],
      "metadata": {
        "id": "Lmjofms3ip2B",
        "colab": {
          "base_uri": "https://localhost:8080/"
        },
        "outputId": "be6a5cec-ac5c-4894-e322-09b284d446e2"
      },
      "execution_count": 99,
      "outputs": [
        {
          "output_type": "stream",
          "name": "stderr",
          "text": [
            "/usr/local/lib/python3.12/dist-packages/pyspark/sql/context.py:113: FutureWarning: Deprecated in 3.0.0. Use SparkSession.builder.getOrCreate() instead.\n",
            "  warnings.warn(\n"
          ]
        }
      ]
    },
    {
      "cell_type": "markdown",
      "source": [
        "#Consultas"
      ],
      "metadata": {
        "id": "b0pw5RUezx_T"
      }
    },
    {
      "cell_type": "markdown",
      "source": [
        "##1) Cuál es el estado que más descuentos tiene en total? y en promedio? Supongan que de una direccion del estilo: 3123 Alan Extension Port Andrea, MA 26926, “MA” es el estado."
      ],
      "metadata": {
        "id": "vBO7Wg8S0EZ1"
      }
    },
    {
      "cell_type": "code",
      "source": [
        "ordersRDD.take(18)"
      ],
      "metadata": {
        "colab": {
          "base_uri": "https://localhost:8080/"
        },
        "id": "bGAHexHw6OsV",
        "outputId": "bc302507-f675-45db-c51d-30bf743ed69c"
      },
      "execution_count": null,
      "outputs": [
        {
          "output_type": "execute_result",
          "data": {
            "text/plain": [
              "[Row(_c0=0, order_id=1, customer_id=447917, order_date='2024-07-26T03:04:05.462241', status='completed', payment_method='Digital Wallet', shipping_address='49599 Wesley Burg Richardview, AZ 30649', billing_address='USNV Morrison FPO AP 90901', discount_amount=0.0, tax_amount=None, shipping_cost=None, total_amount=25.96, currency='USD', created_at='2024-07-26T03:04:05.462241', updated_at='2024-07-27T03:04:05.462241', subtotal=0),\n",
              " Row(_c0=1, order_id=2, customer_id=441379, order_date='2025-03-22T22:45:14.166543', status='Completed', payment_method='Cash on Delivery', shipping_address='3123 Alan Extension Port Andrea, MA 26926', billing_address='95271 Russell Spurs Apt. 613 West Marcus, ND 52394', discount_amount=0.0, tax_amount=0, shipping_cost=43.36, total_amount=43.36, currency='USD ', created_at='2025-03-22T22:45:14.166543', updated_at=None, subtotal=0),\n",
              " Row(_c0=2, order_id=3, customer_id=420585, order_date=None, status='Refunded', payment_method='PayPal', shipping_address='97369 Brown Cliff Apt. 811 Travisland, ME 61083', billing_address='9341 VAZQUEZ COMMON SUITE 320 NEW ANTHONYMOUTH, NJ 81573', discount_amount=None, tax_amount=0, shipping_cost=48.59, total_amount=48.59, currency='USD', created_at='2025-02-10T00:33:27.544335', updated_at=None, subtotal=0),\n",
              " Row(_c0=3, order_id=4, customer_id=456731, order_date='2023-11-25T22:45:39.945645', status='Cancelled', payment_method='Cash on Delivery', shipping_address='61010 Adams Ridges Stacymouth, CT 64105', billing_address='830 Weiss River Suite 861 Lake Nicolemouth, DC 62244', discount_amount=18.83, tax_amount=0, shipping_cost=1.39, total_amount=1.39, currency='USD', created_at=None, updated_at='2023-12-02T22:45:39.945645', subtotal=0),\n",
              " Row(_c0=4, order_id=5, customer_id=468123, order_date='2025-02-15T01:58:58.969479', status='Shipped', payment_method='Digital Wallet', shipping_address='495 Fisher Forest Apt. 665 New Scott, AZ 18199', billing_address='0635 teresa streets apt. 953 robertton, fm 83052', discount_amount=25.38, tax_amount=None, shipping_cost=None, total_amount=25.25, currency='USD', created_at='2025-02-15T01:58:58.969479', updated_at='2025-02-19T01:58:58.969479', subtotal=0),\n",
              " Row(_c0=5, order_id=6, customer_id=409706, order_date='2025-03-29T18:13:52.195569', status='Completed', payment_method='PayPal', shipping_address='330 Jones Fort Coreyside, PR 12518', billing_address='891 Brianna Centers Suite 647 New Sarah, MN 62108', discount_amount=0.0, tax_amount=0, shipping_cost=14.53, total_amount=None, currency='EUR', created_at='2025-03-29T18:13:52.195569', updated_at='2025-03-31T18:13:52.195569', subtotal=0),\n",
              " Row(_c0=6, order_id=7, customer_id=487764, order_date='2024-08-19T20:24:30.195009', status='Shipped', payment_method='Debit Card', shipping_address='23878 Neal Trail Suite 326 North Elizabethville, CA 38211', billing_address='5166 Hart Knoll North Benjaminchester, WI 42783', discount_amount=0.0, tax_amount=0, shipping_cost=5.13, total_amount=5.13, currency='usd ', created_at='2024-08-19T20:24:30.195009', updated_at='2024-08-20T20:24:30.195009', subtotal=0),\n",
              " Row(_c0=7, order_id=8, customer_id=441229, order_date=None, status='Shipped', payment_method='PayPal', shipping_address='10598 Dickson Mall Macdonaldfurt, MO 09609', billing_address='0004 Davis Pine New Jeremyland, OH 36599', discount_amount=21.71, tax_amount=0, shipping_cost=12.25, total_amount=12.25, currency='USD', created_at='2025-06-12T23:36:12.918284', updated_at='2025-06-19T23:36:12.918284', subtotal=0),\n",
              " Row(_c0=8, order_id=9, customer_id=442829, order_date='2024-11-03T23:21:16.995547', status=' COMPLETED', payment_method=' PayPal', shipping_address='938 Matthew Road Suite 163 New Leroy, SC 46984', billing_address='593 Martin Way Apt. 621 South Elizabeth, DC 40931', discount_amount=0.0, tax_amount=0, shipping_cost=13.18, total_amount=13.18, currency='GBP', created_at='2024-11-03T23:21:16.995547', updated_at='2024-11-07T23:21:16.995547', subtotal=0),\n",
              " Row(_c0=9, order_id=10, customer_id=459314, order_date='2024-11-05T04:24:14.292284', status='Shipped', payment_method='Credit Card', shipping_address='795 tiffany parkway suite 000 kaiserberg, mn 50850', billing_address='285 MIRANDA FOREST ALEXANDERTON, MH 45634', discount_amount=0.0, tax_amount=0, shipping_cost=None, total_amount=None, currency='EUR', created_at='2024-11-05T04:24:14.292284', updated_at='undefined', subtotal=0),\n",
              " Row(_c0=10, order_id=11, customer_id=497743, order_date='2025-05-26T02:37:08.343303', status='Completed ', payment_method='Cash on Delivery', shipping_address='9982 Porter Light Suite 093 Deborahville, TN 39082', billing_address='Unit 6119 Box 5231 DPO AE 57436', discount_amount=0.0, tax_amount=None, shipping_cost=10.64, total_amount=10.64, currency='cad', created_at='2025-05-26T02:37:08.343303', updated_at='2025-06-01T02:37:08.343303', subtotal=0),\n",
              " Row(_c0=11, order_id=12, customer_id=431099, order_date='2023-10-01T14:15:43.471806', status=None, payment_method='PayPal ', shipping_address=None, billing_address='127 Payne Loaf Suite 346 Adammouth, NV 52210', discount_amount=0.0, tax_amount=0, shipping_cost=21.32, total_amount=None, currency='EUR', created_at='2023-10-01T14:15:43.471806', updated_at='2023-10-03T14:15:43.471806', subtotal=0),\n",
              " Row(_c0=12, order_id=13, customer_id=435794, order_date='2025-04-03T05:29:51.044196', status='SHIPPED', payment_method='Bank Transfer', shipping_address='06690 Brewer Station Suite 378 North Davidfurt, OR 29846', billing_address='644 Dyer Ford Apt. 507 West Danielport, MA 06313', discount_amount=0.0, tax_amount=0, shipping_cost=36.2, total_amount=36.2, currency='USD', created_at='2025-04-03T05:29:51.044196', updated_at='2025-04-04T05:29:51.044196', subtotal=0),\n",
              " Row(_c0=13, order_id=14, customer_id=475848, order_date='2025-01-05T09:52:56.461604', status='Completed', payment_method='Cash on Delivery', shipping_address='2423 Quinn Road Apt. 501 Port Desiree, NY 16788', billing_address='undefined', discount_amount=None, tax_amount=0, shipping_cost=1.34, total_amount=1.34, currency='USD', created_at='2025-01-05T09:52:56.461604', updated_at='undefined', subtotal=0),\n",
              " Row(_c0=14, order_id=15, customer_id=450202, order_date='2025-04-10T09:46:20.056337', status='Shipped', payment_method=None, shipping_address='57534 Michael Station Suite 807 North Tannerberg, SC 45855', billing_address='6781 Salas Extensions Apt. 695 Carlafort, VI 41246', discount_amount=0.0, tax_amount=0, shipping_cost=9.5, total_amount=9.5, currency='USD', created_at='2025-04-10T09:46:20.056337', updated_at='2025-04-14T09:46:20.056337', subtotal=0),\n",
              " Row(_c0=15, order_id=16, customer_id=405323, order_date=None, status='completed', payment_method='Debit Card', shipping_address='7218 James Island Jessicafort, AS 04198', billing_address='USNV Stevens FPO AP 08814', discount_amount=None, tax_amount=0, shipping_cost=None, total_amount=None, currency='gbp', created_at='2025-05-02T06:56:09.923892', updated_at=' 2025-05-03T06:56:09.923892', subtotal=0),\n",
              " Row(_c0=16, order_id=17, customer_id=467586, order_date='2025-03-17T11:51:04.734881', status='Completed', payment_method=None, shipping_address='56146 Shawn Springs West Sarahburgh, MS 06890', billing_address=None, discount_amount=0.0, tax_amount=0, shipping_cost=19.06, total_amount=19.06, currency='USD', created_at=None, updated_at='2025-03-18T11:51:04.734881', subtotal=None),\n",
              " Row(_c0=17, order_id=18, customer_id=471373, order_date='2025-06-14T08:19:15.278706', status=None, payment_method='Debit Card', shipping_address='undefined', billing_address='80704 Simmons Knoll Suite 707 Port Jacob, AZ 68989', discount_amount=0.0, tax_amount=0, shipping_cost=None, total_amount=6.21, currency='EUR', created_at='2025-06-14T08:19:15.278706', updated_at='2025-06-18T08:19:15.278706', subtotal=0)]"
            ]
          },
          "metadata": {},
          "execution_count": 10
        }
      ]
    },
    {
      "cell_type": "code",
      "source": [
        "filtrarEstados = (lambda x: x.shipping_address.split()[-2])\n",
        "\n",
        "#Me quedo con los estados de la columna shipping_address\n",
        "\n",
        "fila = ordersRDD.filter(lambda x: (x.customer_id == 471373 ))\\\n",
        ".take(1)[0]\n",
        "# .reduceByKey(lambda x,y: (x[0]+y[0],x[1]+y[1]))\\\n",
        "# .map(lambda x: (filtrarEstados(x),(x.discount_amount,1)))\\\n",
        "\n",
        "# Mostramos tipo de cada atributo\n",
        "for campo in fila.__fields__:\n",
        "    valor = getattr(fila, campo)\n",
        "    print(f\"{campo}: {valor} -> {type(valor)}\")"
      ],
      "metadata": {
        "colab": {
          "base_uri": "https://localhost:8080/"
        },
        "id": "L6970hqGRzuF",
        "outputId": "90446085-9c1e-4521-8741-41e406553b6f"
      },
      "execution_count": null,
      "outputs": [
        {
          "output_type": "stream",
          "name": "stdout",
          "text": [
            "_c0: 17 -> <class 'int'>\n",
            "order_id: 18 -> <class 'int'>\n",
            "customer_id: 471373 -> <class 'int'>\n",
            "order_date: 2025-06-14T08:19:15.278706 -> <class 'str'>\n",
            "status: None -> <class 'NoneType'>\n",
            "payment_method: Debit Card -> <class 'str'>\n",
            "shipping_address: undefined -> <class 'str'>\n",
            "billing_address: 80704 Simmons Knoll Suite 707 Port Jacob, AZ 68989 -> <class 'str'>\n",
            "discount_amount: 0.0 -> <class 'float'>\n",
            "tax_amount: 0 -> <class 'int'>\n",
            "shipping_cost: None -> <class 'NoneType'>\n",
            "total_amount: 6.21 -> <class 'float'>\n",
            "currency: EUR -> <class 'str'>\n",
            "created_at: 2025-06-14T08:19:15.278706 -> <class 'str'>\n",
            "updated_at: 2025-06-18T08:19:15.278706 -> <class 'str'>\n",
            "subtotal: 0 -> <class 'int'>\n"
          ]
        }
      ]
    },
    {
      "cell_type": "code",
      "source": [
        "fila2 = ordersRDD.filter(lambda x: (x.customer_id == 431099 ))\\\n",
        ".take(1)[0]\n",
        "\n",
        "# Mostramos tipo de cada atributo\n",
        "for campo in fila.__fields__:\n",
        "    valor = getattr(fila, campo)\n",
        "    print(f\"{campo}: {valor} -> {type(valor)}\")"
      ],
      "metadata": {
        "colab": {
          "base_uri": "https://localhost:8080/"
        },
        "id": "Yt_CEkMOWBVx",
        "outputId": "4a827d39-2f4e-4db9-a7be-000f5855e41b"
      },
      "execution_count": null,
      "outputs": [
        {
          "output_type": "stream",
          "name": "stdout",
          "text": [
            "_c0: 11 -> <class 'int'>\n",
            "order_id: 12 -> <class 'int'>\n",
            "customer_id: 431099 -> <class 'int'>\n",
            "order_date: 2023-10-01T14:15:43.471806 -> <class 'str'>\n",
            "status: None -> <class 'NoneType'>\n",
            "payment_method: PayPal  -> <class 'str'>\n",
            "shipping_address: None -> <class 'NoneType'>\n",
            "billing_address: 127 Payne Loaf Suite 346 Adammouth, NV 52210 -> <class 'str'>\n",
            "discount_amount: 0.0 -> <class 'float'>\n",
            "tax_amount: 0 -> <class 'int'>\n",
            "shipping_cost: 21.32 -> <class 'float'>\n",
            "total_amount: None -> <class 'NoneType'>\n",
            "currency: EUR -> <class 'str'>\n",
            "created_at: 2023-10-01T14:15:43.471806 -> <class 'str'>\n",
            "updated_at: 2023-10-03T14:15:43.471806 -> <class 'str'>\n",
            "subtotal: 0 -> <class 'int'>\n"
          ]
        }
      ]
    },
    {
      "cell_type": "code",
      "source": [
        "filtrarEstados = (lambda x: x.shipping_address.split()[-2])\n",
        "\n",
        "#Me quedo con los estados de la columna shipping_address\n",
        "\n",
        "ordersRDD.filter(lambda row: row.shipping_address is not None and row.shipping_address.lower() != 'undefined' and row.shipping_address.strip() != '')\\\n",
        ".take(17)\n",
        "# .reduceByKey(lambda x,y: (x[0]+y[0],x[1]+y[1]))\\\n",
        "# .map(lambda x: (filtrarEstados(x),(x.discount_amount,1)))\\"
      ],
      "metadata": {
        "colab": {
          "base_uri": "https://localhost:8080/"
        },
        "id": "0PkwculMW8a_",
        "outputId": "685afd1c-73f5-499a-93d6-a7f799fe3caa"
      },
      "execution_count": null,
      "outputs": [
        {
          "output_type": "execute_result",
          "data": {
            "text/plain": [
              "[Row(_c0=0, order_id=1, customer_id=447917, order_date='2024-07-26T03:04:05.462241', status='completed', payment_method='Digital Wallet', shipping_address='49599 Wesley Burg Richardview, AZ 30649', billing_address='USNV Morrison FPO AP 90901', discount_amount=0.0, tax_amount=None, shipping_cost=None, total_amount=25.96, currency='USD', created_at='2024-07-26T03:04:05.462241', updated_at='2024-07-27T03:04:05.462241', subtotal=0),\n",
              " Row(_c0=1, order_id=2, customer_id=441379, order_date='2025-03-22T22:45:14.166543', status='Completed', payment_method='Cash on Delivery', shipping_address='3123 Alan Extension Port Andrea, MA 26926', billing_address='95271 Russell Spurs Apt. 613 West Marcus, ND 52394', discount_amount=0.0, tax_amount=0, shipping_cost=43.36, total_amount=43.36, currency='USD ', created_at='2025-03-22T22:45:14.166543', updated_at=None, subtotal=0),\n",
              " Row(_c0=2, order_id=3, customer_id=420585, order_date=None, status='Refunded', payment_method='PayPal', shipping_address='97369 Brown Cliff Apt. 811 Travisland, ME 61083', billing_address='9341 VAZQUEZ COMMON SUITE 320 NEW ANTHONYMOUTH, NJ 81573', discount_amount=None, tax_amount=0, shipping_cost=48.59, total_amount=48.59, currency='USD', created_at='2025-02-10T00:33:27.544335', updated_at=None, subtotal=0),\n",
              " Row(_c0=3, order_id=4, customer_id=456731, order_date='2023-11-25T22:45:39.945645', status='Cancelled', payment_method='Cash on Delivery', shipping_address='61010 Adams Ridges Stacymouth, CT 64105', billing_address='830 Weiss River Suite 861 Lake Nicolemouth, DC 62244', discount_amount=18.83, tax_amount=0, shipping_cost=1.39, total_amount=1.39, currency='USD', created_at=None, updated_at='2023-12-02T22:45:39.945645', subtotal=0),\n",
              " Row(_c0=4, order_id=5, customer_id=468123, order_date='2025-02-15T01:58:58.969479', status='Shipped', payment_method='Digital Wallet', shipping_address='495 Fisher Forest Apt. 665 New Scott, AZ 18199', billing_address='0635 teresa streets apt. 953 robertton, fm 83052', discount_amount=25.38, tax_amount=None, shipping_cost=None, total_amount=25.25, currency='USD', created_at='2025-02-15T01:58:58.969479', updated_at='2025-02-19T01:58:58.969479', subtotal=0),\n",
              " Row(_c0=5, order_id=6, customer_id=409706, order_date='2025-03-29T18:13:52.195569', status='Completed', payment_method='PayPal', shipping_address='330 Jones Fort Coreyside, PR 12518', billing_address='891 Brianna Centers Suite 647 New Sarah, MN 62108', discount_amount=0.0, tax_amount=0, shipping_cost=14.53, total_amount=None, currency='EUR', created_at='2025-03-29T18:13:52.195569', updated_at='2025-03-31T18:13:52.195569', subtotal=0),\n",
              " Row(_c0=6, order_id=7, customer_id=487764, order_date='2024-08-19T20:24:30.195009', status='Shipped', payment_method='Debit Card', shipping_address='23878 Neal Trail Suite 326 North Elizabethville, CA 38211', billing_address='5166 Hart Knoll North Benjaminchester, WI 42783', discount_amount=0.0, tax_amount=0, shipping_cost=5.13, total_amount=5.13, currency='usd ', created_at='2024-08-19T20:24:30.195009', updated_at='2024-08-20T20:24:30.195009', subtotal=0),\n",
              " Row(_c0=7, order_id=8, customer_id=441229, order_date=None, status='Shipped', payment_method='PayPal', shipping_address='10598 Dickson Mall Macdonaldfurt, MO 09609', billing_address='0004 Davis Pine New Jeremyland, OH 36599', discount_amount=21.71, tax_amount=0, shipping_cost=12.25, total_amount=12.25, currency='USD', created_at='2025-06-12T23:36:12.918284', updated_at='2025-06-19T23:36:12.918284', subtotal=0),\n",
              " Row(_c0=8, order_id=9, customer_id=442829, order_date='2024-11-03T23:21:16.995547', status=' COMPLETED', payment_method=' PayPal', shipping_address='938 Matthew Road Suite 163 New Leroy, SC 46984', billing_address='593 Martin Way Apt. 621 South Elizabeth, DC 40931', discount_amount=0.0, tax_amount=0, shipping_cost=13.18, total_amount=13.18, currency='GBP', created_at='2024-11-03T23:21:16.995547', updated_at='2024-11-07T23:21:16.995547', subtotal=0),\n",
              " Row(_c0=9, order_id=10, customer_id=459314, order_date='2024-11-05T04:24:14.292284', status='Shipped', payment_method='Credit Card', shipping_address='795 tiffany parkway suite 000 kaiserberg, mn 50850', billing_address='285 MIRANDA FOREST ALEXANDERTON, MH 45634', discount_amount=0.0, tax_amount=0, shipping_cost=None, total_amount=None, currency='EUR', created_at='2024-11-05T04:24:14.292284', updated_at='undefined', subtotal=0),\n",
              " Row(_c0=10, order_id=11, customer_id=497743, order_date='2025-05-26T02:37:08.343303', status='Completed ', payment_method='Cash on Delivery', shipping_address='9982 Porter Light Suite 093 Deborahville, TN 39082', billing_address='Unit 6119 Box 5231 DPO AE 57436', discount_amount=0.0, tax_amount=None, shipping_cost=10.64, total_amount=10.64, currency='cad', created_at='2025-05-26T02:37:08.343303', updated_at='2025-06-01T02:37:08.343303', subtotal=0),\n",
              " Row(_c0=12, order_id=13, customer_id=435794, order_date='2025-04-03T05:29:51.044196', status='SHIPPED', payment_method='Bank Transfer', shipping_address='06690 Brewer Station Suite 378 North Davidfurt, OR 29846', billing_address='644 Dyer Ford Apt. 507 West Danielport, MA 06313', discount_amount=0.0, tax_amount=0, shipping_cost=36.2, total_amount=36.2, currency='USD', created_at='2025-04-03T05:29:51.044196', updated_at='2025-04-04T05:29:51.044196', subtotal=0),\n",
              " Row(_c0=13, order_id=14, customer_id=475848, order_date='2025-01-05T09:52:56.461604', status='Completed', payment_method='Cash on Delivery', shipping_address='2423 Quinn Road Apt. 501 Port Desiree, NY 16788', billing_address='undefined', discount_amount=None, tax_amount=0, shipping_cost=1.34, total_amount=1.34, currency='USD', created_at='2025-01-05T09:52:56.461604', updated_at='undefined', subtotal=0),\n",
              " Row(_c0=14, order_id=15, customer_id=450202, order_date='2025-04-10T09:46:20.056337', status='Shipped', payment_method=None, shipping_address='57534 Michael Station Suite 807 North Tannerberg, SC 45855', billing_address='6781 Salas Extensions Apt. 695 Carlafort, VI 41246', discount_amount=0.0, tax_amount=0, shipping_cost=9.5, total_amount=9.5, currency='USD', created_at='2025-04-10T09:46:20.056337', updated_at='2025-04-14T09:46:20.056337', subtotal=0),\n",
              " Row(_c0=15, order_id=16, customer_id=405323, order_date=None, status='completed', payment_method='Debit Card', shipping_address='7218 James Island Jessicafort, AS 04198', billing_address='USNV Stevens FPO AP 08814', discount_amount=None, tax_amount=0, shipping_cost=None, total_amount=None, currency='gbp', created_at='2025-05-02T06:56:09.923892', updated_at=' 2025-05-03T06:56:09.923892', subtotal=0),\n",
              " Row(_c0=16, order_id=17, customer_id=467586, order_date='2025-03-17T11:51:04.734881', status='Completed', payment_method=None, shipping_address='56146 Shawn Springs West Sarahburgh, MS 06890', billing_address=None, discount_amount=0.0, tax_amount=0, shipping_cost=19.06, total_amount=19.06, currency='USD', created_at=None, updated_at='2025-03-18T11:51:04.734881', subtotal=None),\n",
              " Row(_c0=18, order_id=19, customer_id=439474, order_date='2025-06-14T03:19:55.990695', status='Completed', payment_method='CREDIT CARD', shipping_address='49905 Paul Roads North Joseph, RI 48731', billing_address='71224 MAURICE PLAIN PORT DAVID, AS 38764', discount_amount=None, tax_amount=0, shipping_cost=None, total_amount=16.49, currency='USD', created_at='2025-06-14T03:19:55.990695', updated_at='2025-06-14T03:19:55.990695', subtotal=0)]"
            ]
          },
          "metadata": {},
          "execution_count": 130
        }
      ]
    },
    {
      "cell_type": "code",
      "source": [
        "def tieneDireccionValida(orden):\n",
        "    return (\n",
        "        orden.shipping_address is not None\n",
        "        and orden.shipping_address.lower() != \"undefined\"\n",
        "        and orden.shipping_address.strip() != \"\"\n",
        "    )\n",
        "\n",
        "def obtenerEstado(orden):\n",
        "    return orden.shipping_address.split()[-2]\n",
        "\n",
        "def llenarDescuento(orden):\n",
        "    return orden.discount_amount if orden.discount_amount is not None else 0\n",
        "\n",
        "def combinarDescuentos(x, y):\n",
        "    sumaDescuentos = x[0] + y[0]\n",
        "    cantTotalOrdenes = x[1] + y[1]\n",
        "    return ( sumaDescuentos, cantTotalOrdenes )\n",
        "\n",
        "def promedioPorDescuento( totalDescuentos , cantTotalOrdenes ):\n",
        "    return totalDescuentos / cantTotalOrdenes\n",
        "\n",
        "def mayorPorTotal(x, y):\n",
        "    return x if x[1][0] > y[1][0] else y\n",
        "\n",
        "#Pipeline\n",
        "acumuladoPorEstado = ordersRDD.filter(tieneDireccionValida)\\\n",
        "    .map(lambda orden: ( obtenerEstado(orden), (llenarDescuento(orden),1) ))\\\n",
        "    .reduceByKey( combinarDescuentos )\n",
        "\n",
        "estadisticasPorEstado = acumuladoPorEstado.mapValues( lambda x: (x[0], promedioPorDescuento(x[0],x[1])) )\n",
        "\n",
        "estadisticasPorEstado.reduce( mayorPorTotal )"
      ],
      "metadata": {
        "colab": {
          "base_uri": "https://localhost:8080/"
        },
        "id": "8-kzLK-1WikC",
        "outputId": "cd835df3-0de9-45eb-d686-a6a70b3016d0"
      },
      "execution_count": null,
      "outputs": [
        {
          "output_type": "execute_result",
          "data": {
            "text/plain": [
              "('AP', (1550705.2400000007, 10.670602029932914))"
            ]
          },
          "metadata": {},
          "execution_count": 15
        }
      ]
    },
    {
      "cell_type": "markdown",
      "source": [
        "##2) ¿Cuáles son los 5 códigos postales más comunes para las órdenes con estado ‘Refunded’? ¿Y cuál es el nombre más frecuente entre los clientes de esas direcciones?"
      ],
      "metadata": {
        "id": "EyHKxnl7d1kF"
      }
    },
    {
      "cell_type": "code",
      "source": [
        "def tieneDireccionValida(orden):\n",
        "    return (\n",
        "        orden.shipping_address is not None\n",
        "        and orden.shipping_address.lower() != \"undefined\"\n",
        "        and orden.shipping_address.strip() != \"\"\n",
        "    )\n",
        "\n",
        "def obtenerCodigoPostal(orden):\n",
        "    return orden.shipping_address.split()[-1]\n",
        "\n",
        "def combinarOrdenesRefunded(x, y):\n",
        "    cantTotalOrdenes = x + y\n",
        "    return cantTotalOrdenes\n",
        "\n",
        "#Pipeline\n",
        "\n",
        "# 5 codigos mas comunes de Refunded\n",
        "refundedOrders = ordersRDD.filter( lambda x: x.status== 'Refunded' ).filter( tieneDireccionValida ).cache()\n",
        "# topZipCodes\n",
        "refundedOrders.map(lambda orden: ( obtenerCodigoPostal(orden), 1 ) ).reduceByKey( combinarOrdenesRefunded ).takeOrdered( 5, key=lambda x: -x[1] )\n",
        "  # [('70696', 6), ('47612', 5), ('99202', 5), ('75585', 4), ('52309', 4)]"
      ],
      "metadata": {
        "id": "Pqg68yn0d00V",
        "colab": {
          "base_uri": "https://localhost:8080/"
        },
        "outputId": "15ad8891-3977-47df-e6ae-b0251117cbe9"
      },
      "execution_count": 42,
      "outputs": [
        {
          "output_type": "execute_result",
          "data": {
            "text/plain": [
              "[('70696', 6), ('47612', 5), ('99202', 5), ('75585', 4), ('52309', 4)]"
            ]
          },
          "metadata": {},
          "execution_count": 42
        }
      ]
    },
    {
      "cell_type": "code",
      "source": [
        "filtrarZipCode = lambda x: (\n",
        "      obtenerCodigoPostal(x) == '70696'\n",
        "      or obtenerCodigoPostal(x) == '47612'\n",
        "      or obtenerCodigoPostal(x) == '99202'\n",
        "      or obtenerCodigoPostal(x) == '75585'\n",
        "      or obtenerCodigoPostal(x) == '52309'\n",
        ")\n",
        "\n",
        "ClientesZipCodes = refundedOrders.filter( filtrarZipCode ).map( lambda x: ( x.customer_id, ( obtenerCodigoPostal(x) , 1 ) ) ).cache()\n",
        "ClientesZipCodes.count()"
      ],
      "metadata": {
        "colab": {
          "base_uri": "https://localhost:8080/"
        },
        "id": "V6nL9LSpiDqk",
        "outputId": "8135a21e-80bc-4112-ff39-32b41f93f12d"
      },
      "execution_count": 43,
      "outputs": [
        {
          "output_type": "execute_result",
          "data": {
            "text/plain": [
              "24"
            ]
          },
          "metadata": {},
          "execution_count": 43
        }
      ]
    },
    {
      "cell_type": "code",
      "source": [
        "#Verificando si se repiten\n",
        "ClientesZipCodes.reduceByKey( lambda x,y: x[1][1]+y[1][1] ).take(24)"
      ],
      "metadata": {
        "colab": {
          "base_uri": "https://localhost:8080/"
        },
        "id": "qZafZnQLoHS9",
        "outputId": "647375c1-b141-4956-d2b7-9cd3b3823bac"
      },
      "execution_count": 44,
      "outputs": [
        {
          "output_type": "execute_result",
          "data": {
            "text/plain": [
              "[(438664, ('75585', 1)),\n",
              " (483592, ('52309', 1)),\n",
              " (446944, ('47612', 1)),\n",
              " (458648, ('47612', 1)),\n",
              " (475792, ('47612', 1)),\n",
              " (431809, ('75585', 1)),\n",
              " (415305, ('70696', 1)),\n",
              " (435545, ('52309', 1)),\n",
              " (422050, ('52309', 1)),\n",
              " (436994, ('70696', 1)),\n",
              " (471187, ('99202', 1)),\n",
              " (478707, ('70696', 1)),\n",
              " (406955, ('99202', 1)),\n",
              " (494827, ('99202', 1)),\n",
              " (498627, ('70696', 1)),\n",
              " (485828, ('75585', 1)),\n",
              " (424157, ('70696', 1)),\n",
              " (452549, ('99202', 1)),\n",
              " (444925, ('47612', 1)),\n",
              " (485534, ('75585', 1)),\n",
              " (405566, ('70696', 1)),\n",
              " (485775, ('47612', 1)),\n",
              " (437671, ('99202', 1)),\n",
              " (450183, ('52309', 1))]"
            ]
          },
          "metadata": {},
          "execution_count": 44
        }
      ]
    },
    {
      "cell_type": "code",
      "source": [
        "clientesPorId = customersRDD.map( lambda x: ( x.customer_id, (x.first_name , x.last_name )) )\n",
        "clientesNombreApellido = ClientesZipCodes.join( clientesPorId ).cache()\n",
        "clientesNombreApellido.count()"
      ],
      "metadata": {
        "colab": {
          "base_uri": "https://localhost:8080/"
        },
        "id": "iv43GoMXxAef",
        "outputId": "fa79be50-320b-4de0-e436-88f8ce8b69fa"
      },
      "execution_count": 46,
      "outputs": [
        {
          "output_type": "execute_result",
          "data": {
            "text/plain": [
              "24"
            ]
          },
          "metadata": {},
          "execution_count": 46
        }
      ]
    },
    {
      "cell_type": "code",
      "source": [
        "clientesNombreApellido.take(24)"
      ],
      "metadata": {
        "colab": {
          "base_uri": "https://localhost:8080/"
        },
        "id": "CweWEdkpsHEo",
        "outputId": "22c51c25-6bcf-4cc7-8f51-e24fc09e4b8c"
      },
      "execution_count": 47,
      "outputs": [
        {
          "output_type": "execute_result",
          "data": {
            "text/plain": [
              "[(422050, (('52309', 1), ('Briana', 'DANIELS'))),\n",
              " (437671, (('99202', 1), ('Shawn', 'Graham'))),\n",
              " (483592, (('52309', 1), ('Jennifer', 'Martin'))),\n",
              " (475792, (('47612', 1), ('Patrick', 'Maxwell'))),\n",
              " (450183, (('52309', 1), ('Dana', 'Summers'))),\n",
              " (438664, (('75585', 1), ('Emily', 'Garner'))),\n",
              " (485534, (('75585', 1), ('Melinda', 'MILLER '))),\n",
              " (446944, (('47612', 1), ('Jodi', 'Carter'))),\n",
              " (436994, (('70696', 1), ('Amber', 'Campbell'))),\n",
              " (485775, (('47612', 1), ('Donna', 'Jacobs'))),\n",
              " (406955, (('99202', 1), ('Brandon', 'Harrison'))),\n",
              " (415305, (('70696', 1), ('Edward', 'Gentry'))),\n",
              " (435545, (('52309', 1), ('Ricky', 'Dunn'))),\n",
              " (444925, (('47612', 1), ('Debbie', 'Smith'))),\n",
              " (405566, (('70696', 1), ('Ashley', 'undefined'))),\n",
              " (471187, (('99202', 1), ('WILLIAM', 'Smith'))),\n",
              " (478707, (('70696', 1), ('LEE', 'Clark'))),\n",
              " (424157, (('70696', 1), ('Chelsea ', None))),\n",
              " (494827, (('99202', 1), ('Regina', 'WILLIAMSON'))),\n",
              " (498627, (('70696', 1), ('Todd', 'Owen'))),\n",
              " (485828, (('75585', 1), ('David', 'undefined'))),\n",
              " (458648, (('47612', 1), (' Michael', 'Jackson'))),\n",
              " (431809, (('75585', 1), ('Stephen', 'Becker'))),\n",
              " (452549, (('99202', 1), ('Christina ', 'Hernandez')))]"
            ]
          },
          "metadata": {},
          "execution_count": 47
        }
      ]
    },
    {
      "cell_type": "markdown",
      "source": [
        "##3) Para cada tipo de pago y segmento de cliente, devolver la suma y el promedio expresado como porcentaje, de clientes activos y de consentimiento de marketing. Se valora que el output de la consulta tenga nombres claros y en español."
      ],
      "metadata": {
        "id": "u-ueVaHnfRgn"
      }
    },
    {
      "cell_type": "markdown",
      "source": [
        "### cantidad de palabras diff"
      ],
      "metadata": {
        "id": "j6GlfoIB7_Mf"
      }
    },
    {
      "cell_type": "code",
      "source": [
        "ordersRDD.map(lambda x: x.payment_method).distinct().count()"
      ],
      "metadata": {
        "colab": {
          "base_uri": "https://localhost:8080/"
        },
        "id": "iXfQWbuvzxMZ",
        "outputId": "792c991c-ab20-4b2a-c678-b972a4b542a9"
      },
      "execution_count": 50,
      "outputs": [
        {
          "output_type": "execute_result",
          "data": {
            "text/plain": [
              "56"
            ]
          },
          "metadata": {},
          "execution_count": 50
        }
      ]
    },
    {
      "cell_type": "code",
      "source": [
        "ordersRDD.map(lambda x: x.payment_method).distinct().collect()"
      ],
      "metadata": {
        "colab": {
          "base_uri": "https://localhost:8080/"
        },
        "id": "h7vKbtWK7NJy",
        "outputId": "d4b73f78-be21-4397-bd0c-bbddca475377"
      },
      "execution_count": 52,
      "outputs": [
        {
          "output_type": "execute_result",
          "data": {
            "text/plain": [
              "['PayPal',\n",
              " None,\n",
              " 'DIGITAL WALLET ',\n",
              " ' CASH ON DELIVERY',\n",
              " 'bank transfer ',\n",
              " ' credit card',\n",
              " 'PAYPAL ',\n",
              " 'DEBIT CARD',\n",
              " 'Credit Card ',\n",
              " ' Cash on Delivery',\n",
              " 'credit card',\n",
              " ' Credit Card',\n",
              " 'Digital Wallet ',\n",
              " ' cash on delivery',\n",
              " ' debit card',\n",
              " 'PayPal ',\n",
              " 'Bank Transfer',\n",
              " 'CASH ON DELIVERY',\n",
              " 'Debit Card ',\n",
              " 'CREDIT CARD ',\n",
              " 'BANK TRANSFER ',\n",
              " 'CASH ON DELIVERY ',\n",
              " ' BANK TRANSFER',\n",
              " 'Digital Wallet',\n",
              " ' PayPal',\n",
              " 'Credit Card',\n",
              " 'PAYPAL',\n",
              " ' PAYPAL',\n",
              " 'digital wallet',\n",
              " 'cash on delivery ',\n",
              " ' digital wallet',\n",
              " 'digital wallet ',\n",
              " 'DEBIT CARD ',\n",
              " 'bank transfer',\n",
              " 'BANK TRANSFER',\n",
              " ' Debit Card',\n",
              " ' DIGITAL WALLET',\n",
              " ' paypal',\n",
              " 'paypal',\n",
              " 'Bank Transfer ',\n",
              " 'undefined',\n",
              " 'Cash on Delivery ',\n",
              " ' Bank Transfer',\n",
              " 'debit card',\n",
              " 'paypal ',\n",
              " ' CREDIT CARD',\n",
              " 'Debit Card',\n",
              " 'cash on delivery',\n",
              " 'DIGITAL WALLET',\n",
              " 'debit card ',\n",
              " 'Cash on Delivery',\n",
              " 'CREDIT CARD',\n",
              " ' bank transfer',\n",
              " ' Digital Wallet',\n",
              " 'credit card ',\n",
              " ' DEBIT CARD']"
            ]
          },
          "metadata": {},
          "execution_count": 52
        }
      ]
    },
    {
      "cell_type": "code",
      "source": [
        "customersRDD.map(lambda x: x.customer_segment).distinct().count()"
      ],
      "metadata": {
        "colab": {
          "base_uri": "https://localhost:8080/"
        },
        "id": "eWaNnS_H7Gsw",
        "outputId": "46c1ef5a-3838-40be-e481-54769630994f"
      },
      "execution_count": 55,
      "outputs": [
        {
          "output_type": "execute_result",
          "data": {
            "text/plain": [
              "29"
            ]
          },
          "metadata": {},
          "execution_count": 55
        }
      ]
    },
    {
      "cell_type": "code",
      "source": [
        "customersRDD.map(lambda x: x.customer_segment).distinct().collect()"
      ],
      "metadata": {
        "colab": {
          "base_uri": "https://localhost:8080/"
        },
        "id": "ypgYu4HcCYwt",
        "outputId": "5e4a3427-8b0e-4b21-baf4-480af059e44b"
      },
      "execution_count": 56,
      "outputs": [
        {
          "output_type": "execute_result",
          "data": {
            "text/plain": [
              "['Regular',\n",
              " 'Budget',\n",
              " 'Premium',\n",
              " None,\n",
              " 'regular',\n",
              " 'premium',\n",
              " 'Premium ',\n",
              " 'premium ',\n",
              " 'PREMIUM',\n",
              " 'Budget ',\n",
              " ' Budget',\n",
              " 'regular ',\n",
              " 'REGULAR ',\n",
              " ' BUDGET',\n",
              " ' budget',\n",
              " 'budget',\n",
              " 'undefined',\n",
              " 'REGULAR',\n",
              " 'Regular ',\n",
              " ' Premium',\n",
              " ' Regular',\n",
              " 'BUDGET',\n",
              " 'budget ',\n",
              " ' regular',\n",
              " ' REGULAR',\n",
              " ' PREMIUM',\n",
              " 'BUDGET ',\n",
              " ' premium',\n",
              " 'PREMIUM ']"
            ]
          },
          "metadata": {},
          "execution_count": 56
        }
      ]
    },
    {
      "cell_type": "markdown",
      "source": [
        "###resolucion"
      ],
      "metadata": {
        "id": "uYdlB9FdE-vp"
      }
    },
    {
      "cell_type": "code",
      "source": [
        "def normalizarMetodoPago(metodo):\n",
        "    if metodo is None or metodo.lower().strip() == \"undefined\":\n",
        "        return None\n",
        "    return metodo.lower().strip()\n",
        "\n",
        "def normalizarSegmento(segmento):\n",
        "    if segmento is None or segmento.lower().strip() == \"undefined\":\n",
        "        return None\n",
        "    return segmento.lower().strip()\n",
        "\n",
        "\n",
        "# (customer_id, payment_method)\n",
        "metodosPorCliente = ordersRDD.map(lambda orden: (\n",
        "    orden.customer_id,\n",
        "    normalizarMetodoPago(orden.payment_method)\n",
        ")).filter(lambda x: x[1] is not None).distinct().cache()\n",
        "\n",
        "# (customer_id, (segmento, is_active, marketing_consent))\n",
        "clientesInfo = customersRDD.map(lambda c: (\n",
        "    c.customer_id,\n",
        "    (normalizarSegmento(c.customer_segment), c.is_active, c.marketing_consent)\n",
        ")).filter(lambda x: x[1][0] is not None).cache()\n",
        "\n",
        "# Join entre ambos\n",
        "datosCombinados = metodosPorCliente.join(clientesInfo).cache()\n",
        "# (customer_id, (payment_method, (segmento, is_active, marketing_consent)))\n",
        "datosCombinados.count()"
      ],
      "metadata": {
        "colab": {
          "base_uri": "https://localhost:8080/"
        },
        "id": "BmfEHlAw6fP1",
        "outputId": "5eb5d315-95d9-48ea-fdb6-f608a5b36c7e"
      },
      "execution_count": 68,
      "outputs": [
        {
          "output_type": "execute_result",
          "data": {
            "text/plain": [
              "544587"
            ]
          },
          "metadata": {},
          "execution_count": 68
        }
      ]
    },
    {
      "cell_type": "code",
      "source": [
        "datosCombinados.take(10)"
      ],
      "metadata": {
        "colab": {
          "base_uri": "https://localhost:8080/"
        },
        "id": "h2XEC_E1KTgo",
        "outputId": "57c007da-f99b-4246-e97c-ffa09967afc6"
      },
      "execution_count": 70,
      "outputs": [
        {
          "output_type": "execute_result",
          "data": {
            "text/plain": [
              "[(412350, ('bank transfer', ('budget', True, False))),\n",
              " (412350, ('digital wallet', ('budget', True, False))),\n",
              " (412350, ('credit card', ('budget', True, False))),\n",
              " (412350, ('cash on delivery', ('budget', True, False))),\n",
              " (412350, ('debit card', ('budget', True, False))),\n",
              " (412350, ('paypal', ('budget', True, False))),\n",
              " (443950, ('bank transfer', ('premium', True, True))),\n",
              " (443950, ('digital wallet', ('premium', True, True))),\n",
              " (443950, ('credit card', ('premium', True, True))),\n",
              " (443950, ('cash on delivery', ('premium', True, True)))]"
            ]
          },
          "metadata": {},
          "execution_count": 70
        }
      ]
    },
    {
      "cell_type": "code",
      "source": [
        "# ( (metodo_pago, segmento), (activos, total, consentimiento, total) )\n",
        "datosAgrupados = datosCombinados.map(lambda x: (\n",
        "    (x[1][0], x[1][1][0]),  # (payment_method, segmento)\n",
        "    (1 if x[1][1][1] else 0, 1, 1 if x[1][1][2] else 0, 1)\n",
        ")).cache()\n",
        "\n",
        "def combinar(x, y):\n",
        "    return (x[0]+y[0], x[1]+y[1], x[2]+y[2], x[3]+y[3])\n",
        "\n",
        "totales = datosAgrupados.reduceByKey(combinar).cache()\n",
        "\n",
        "resultadoFinal = totales.map(lambda x: (\n",
        "    x[0][0],   # metodo_pago\n",
        "    x[0][1],   # segmento\n",
        "    x[1][0],   # cantidad_clientes_activos\n",
        "    (x[1][0] / x[1][1]) * 100,  # porcentaje_clientes_activos\n",
        "    x[1][2],   # cantidad_consentimiento_marketing\n",
        "    (x[1][2] / x[1][3]) * 100   # porcentaje_consentimiento_marketing\n",
        "))\n",
        "\n",
        "# Encabezado con los nombres de las columnas\n",
        "print(\n",
        "    \"Metodo De Pago | Segmento | Cant Clientes Activos | Porcentaje Clientes Activos | \"\n",
        "    \"Cant Consentimiento Marketing | Porcentaje Consentimiento Marketing\"\n",
        ")\n",
        "\n",
        "resultadoOrdenado = resultadoFinal.sortBy(lambda x: (x[0], x[1]))\n",
        "for fila in resultadoOrdenado.take(20):\n",
        "    print(fila)"
      ],
      "metadata": {
        "colab": {
          "base_uri": "https://localhost:8080/"
        },
        "id": "s4LUQK87HyNO",
        "outputId": "b54b921c-6041-4a43-f53f-c50890993674"
      },
      "execution_count": 82,
      "outputs": [
        {
          "output_type": "stream",
          "name": "stdout",
          "text": [
            "Metodo De Pago | Segmento | Cant Clientes Activos | Porcentaje Clientes Activos | Cant Consentimiento Marketing | Porcentaje Consentimiento Marketing\n",
            "('bank transfer', 'budget', 16041, 89.78004141713774, 12451, 69.68713270274807)\n",
            "('bank transfer', 'premium', 16441, 89.88082221736278, 12808, 70.01968073474744)\n",
            "('bank transfer', 'regular', 49126, 89.96447276856023, 38297, 70.13331868292862)\n",
            "('cash on delivery', 'budget', 16040, 89.79454738845659, 12449, 69.69154117449476)\n",
            "('cash on delivery', 'premium', 16437, 89.87860892388451, 12807, 70.02952755905511)\n",
            "('cash on delivery', 'regular', 49140, 89.96704503844745, 38307, 70.13365067740754)\n",
            "('credit card', 'budget', 16039, 89.77889728519452, 12448, 69.67814161768821)\n",
            "('credit card', 'premium', 16434, 89.87203324948048, 12807, 70.03718691895439)\n",
            "('credit card', 'regular', 49132, 89.96228073387776, 38301, 70.13036950232541)\n",
            "('debit card', 'budget', 16034, 89.77603583426652, 12441, 69.65845464725643)\n",
            "('debit card', 'premium', 16442, 89.88628908812596, 12810, 70.03061447627378)\n",
            "('debit card', 'regular', 49130, 89.97179797091894, 38295, 70.12965608174926)\n",
            "('digital wallet', 'budget', 16039, 89.78894922465432, 12445, 69.66914851928567)\n",
            "('digital wallet', 'premium', 16440, 89.88518316019682, 12808, 70.02733734281028)\n",
            "('digital wallet', 'regular', 49127, 89.9663040691499, 38299, 70.13698128410797)\n",
            "('paypal', 'budget', 16039, 89.78894922465432, 12446, 69.67474668308795)\n",
            "('paypal', 'premium', 16435, 89.87750191403259, 12808, 70.0426555835065)\n",
            "('paypal', 'regular', 49138, 89.96338337605273, 38306, 70.13181984621018)\n"
          ]
        }
      ]
    },
    {
      "cell_type": "markdown",
      "source": [
        "##4) Para los productos que contienen en su descripción la palabra “stuff” (sin importar mayúsculas o minúsculas), calcular el peso total de su inventario agrupado por marca, mostrar sólo la marca y el peso total de las 5 más pesadas."
      ],
      "metadata": {
        "id": "KQMiXESaJD3r"
      }
    },
    {
      "cell_type": "code",
      "source": [
        "# Filtrar productos que contengan 'stuff' en la descripción (sin nulos, case insensitive)\n",
        "productosStuffRDD = productsRDD.filter(\n",
        "    lambda producto: producto.description is not None and \"stuff\" in producto.description.lower()\n",
        ")\n",
        "\n",
        "# Filtrar marcas válidas (sin undefined o None)\n",
        "productosFiltradosRDD = productosStuffRDD.filter(\n",
        "    lambda producto: producto.brand is not None and producto.brand.lower() != \"undefined\"\n",
        ")\n",
        "\n",
        "# Reemplazar nulos con 0 y calcular peso total por producto\n",
        "productosConPesoRDD = productosFiltradosRDD.map(\n",
        "    lambda producto: (producto.brand, (producto.stock_quantity or 0) * (producto.weight_kg or 0))\n",
        ")\n",
        "\n",
        "# Agrupar por marca y sumar pesos usando lambda\n",
        "pesoTotalPorMarcaRDD = productosConPesoRDD.reduceByKey(lambda x, y: x + y)\n",
        "\n",
        "\n",
        "pesoTotalPorMarcaRDD.takeOrdered(5, key=lambda x: -x[1])\n",
        "\n",
        "# [('3M', 1650353.9800000002),\n",
        "#  ('Adidas', 1437972.1700000004),\n",
        "#  ('Wayfair', 1300550.02),\n",
        "#  ('Hasbro', 1215804.37),\n",
        "#  ('IKEA', 1121565.1)]"
      ],
      "metadata": {
        "colab": {
          "base_uri": "https://localhost:8080/"
        },
        "id": "RFgCPrPpJC-V",
        "outputId": "eee579e2-65b9-441f-d655-22370c52e497"
      },
      "execution_count": 136,
      "outputs": [
        {
          "output_type": "execute_result",
          "data": {
            "text/plain": [
              "[('3M', 1650353.9800000002),\n",
              " ('Adidas', 1437972.1700000004),\n",
              " ('Wayfair', 1300550.02),\n",
              " ('Hasbro', 1215804.37),\n",
              " ('IKEA', 1121565.1)]"
            ]
          },
          "metadata": {},
          "execution_count": 136
        }
      ]
    },
    {
      "cell_type": "markdown",
      "source": [
        "##5) Calculen el porcentaje de productos cuyo stock es al menos 20% más alto que el stock promedio de su marca. Por ejemplo, si el stock promedio de la marca Adidas fuera 100, para los productos de dicha marca la condición será que tengan un stock mayor a 120, y luego se deberá calcular qué porcentaje del total de productos cumple con esta condición."
      ],
      "metadata": {
        "id": "JrdUDkvfJ62S"
      }
    },
    {
      "cell_type": "code",
      "source": [
        "# Filtrar productos válidos y cachear\n",
        "productosLimpiosRDD = productsRDD.filter(\n",
        "    lambda x: x.brand is not None and x.brand.lower() != \"undefined\"\n",
        ").cache()\n",
        "\n",
        "# Sumar stock y cantidad de productos por marca\n",
        "stockPorMarcaRDD = productosLimpiosRDD.map(\n",
        "    lambda x: (x.brand, (x.stock_quantity or 0, 1))\n",
        ").reduceByKey(lambda x, y: (x[0]+y[0], x[1]+y[1]))\n",
        "\n",
        "# Calcular promedio de stock por marca\n",
        "promedioStockPorMarcaRDD = stockPorMarcaRDD.map(\n",
        "    lambda x: (x[0], x[1][0] / x[1][1])\n",
        ")\n",
        "\n",
        "# Broadcast del promedio por marca para usar en filter\n",
        "promedioStockPorMarcaDict = sc.broadcast(dict(promedioStockPorMarcaRDD.collect()))\n",
        "\n",
        "# Función para verificar si el stock es ≥ 120% del promedio de su marca\n",
        "def stockMayor20Porc(producto):\n",
        "    marca = producto.brand\n",
        "    stock = producto.stock_quantity or 0\n",
        "    promedio = promedioStockPorMarcaDict.value.get(marca, 0)\n",
        "    return stock >= 1.2 * promedio\n",
        "\n",
        "# Filtrar productos que cumplen la condición\n",
        "productosMayor20PorcRDD = productosLimpiosRDD.filter(stockMayor20Porc)\n",
        "\n",
        "# Calcular totales y porcentaje\n",
        "totalProductos = productosLimpiosRDD.count()\n",
        "productosCumplen = productosMayor20PorcRDD.count()\n",
        "\n",
        "porcentajeProductosMayor20Porc = (productosCumplen / totalProductos) * 100\n",
        "porcentajeProductosMayor20Porc\n",
        "\n",
        "# 41.60567897191177"
      ],
      "metadata": {
        "colab": {
          "base_uri": "https://localhost:8080/"
        },
        "id": "42wZHLhzKBC0",
        "outputId": "3d832408-006c-49f7-bfaf-845d23cd751e"
      },
      "execution_count": 122,
      "outputs": [
        {
          "output_type": "execute_result",
          "data": {
            "text/plain": [
              "41.60567897191177"
            ]
          },
          "metadata": {},
          "execution_count": 122
        }
      ]
    },
    {
      "cell_type": "markdown",
      "source": [
        "##6) Obtener la cantidad de órdenes que no hayan comprado ninguno de los 10 productos más vendidos."
      ],
      "metadata": {
        "id": "M722aFdZKDjO"
      }
    },
    {
      "cell_type": "code",
      "source": [
        "# Contar cuántas veces se vendió cada producto\n",
        "cantidadVentasPorProductoRDD = orderItemsRDD.map(lambda x: (x.product_id, 1)) \\\n",
        "    .reduceByKey(lambda x, y: x + y)\n",
        "\n",
        "# Obtener los 10 productos más vendidos\n",
        "top10Productos = cantidadVentasPorProductoRDD.takeOrdered(10, key=lambda x: -x[1])\n",
        "top10IdsProductos = [producto[0] for producto in top10Productos]\n",
        "\n",
        "# Mapear cada item a (idOrden, flag) según si es top10\n",
        "ordenesConFlagRDD = orderItemsRDD.map(\n",
        "    lambda x: (x.order_id, 1 if x.product_id in top10IdsProductos else 0)\n",
        ")\n",
        "\n",
        "# Reducir por idOrden para ver si contiene algún top10\n",
        "def combinarFlags(x, y):\n",
        "    return 1 if x == 1 or y == 1 else 0\n",
        "\n",
        "ordenesConTop10FlagRDD = ordenesConFlagRDD.reduceByKey(combinarFlags)\n",
        "\n",
        "# Filtrar órdenes que NO contienen ninguno de los productos top10\n",
        "ordenesSinTop10RDD = ordenesConTop10FlagRDD.filter(lambda x: x[1] == 0)\n",
        "\n",
        "# Contar cantidad de órdenes que cumplen la condición\n",
        "cantidadOrdenesSinTop10 = ordenesSinTop10RDD.count()\n",
        "totalOrdenes = orderItemsRDD.map(lambda x: x.order_id).count()\n",
        "\n",
        "# Calcular porcentaje\n",
        "porcentajeOrdenesSinTop10 = (cantidadOrdenesSinTop10 / totalOrdenes) * 100\n",
        "\n",
        "# Mostrar resultados\n",
        "print(\"Cantidad de órdenes sin ningún producto del top10:\", cantidadOrdenesSinTop10, \"de\", totalOrdenes, \"órdenes totales\")"
      ],
      "metadata": {
        "colab": {
          "base_uri": "https://localhost:8080/"
        },
        "id": "Vjh44wUCKCnB",
        "outputId": "81cbc0cd-f9d2-4b05-8179-0df369a55548"
      },
      "execution_count": 132,
      "outputs": [
        {
          "output_type": "stream",
          "name": "stdout",
          "text": [
            "Cantidad de órdenes sin ningún producto del top10: 99490 de 285243 órdenes totales\n"
          ]
        }
      ]
    },
    {
      "cell_type": "code",
      "source": [
        "print(\"Porcentaje de ordenes sin top10:\", cantidadOrdenesSinTop10 / totalOrdenes ,'%')"
      ],
      "metadata": {
        "colab": {
          "base_uri": "https://localhost:8080/"
        },
        "id": "lW1guFn6VMfW",
        "outputId": "669a9d3a-e9db-4dbc-b343-2c3135a9dc4f"
      },
      "execution_count": 133,
      "outputs": [
        {
          "output_type": "stream",
          "name": "stdout",
          "text": [
            "Porcentaje de ordenes sin top10: 0.3487903296487556 %\n"
          ]
        }
      ]
    },
    {
      "cell_type": "markdown",
      "source": [
        "##7) Calcular la cantidad y el porcentaje de clientes inactivos por segmento de clientes"
      ],
      "metadata": {
        "id": "Tq4no5qEyRw2"
      }
    },
    {
      "cell_type": "code",
      "source": [
        "# Verificar clientes válidos\n",
        "def clienteValido(cliente):\n",
        "    return cliente.customer_segment is not None and cliente.customer_segment.lower().strip() != \"undefined\"\n",
        "\n",
        "# Obtener segmento de cliente normalizado\n",
        "def obtenerSegmento(cliente):\n",
        "    return cliente.customer_segment.strip().lower()  # eliminar espacios y pasar a minúsculas\n",
        "\n",
        "# Marcar si el cliente está inactivo\n",
        "def clienteInactivo(cliente):\n",
        "    return 1 if not cliente.is_active else 0\n",
        "\n",
        "# Combinar totales de clientes inactivos y total de clientes por segmento\n",
        "def combinarInactivos(x, y):\n",
        "    return (x[0] + y[0], x[1] + y[1])\n",
        "\n",
        "# Pipeline\n",
        "acumuladoPorSegmento = customersRDD.filter(clienteValido)\\\n",
        "    .map(lambda c: (obtenerSegmento(c), (clienteInactivo(c), 1)))\\\n",
        "    .reduceByKey(combinarInactivos)\n",
        "\n",
        "# Calcular porcentaje de inactivos por segmento\n",
        "estadisticasPorSegmento = acumuladoPorSegmento.mapValues(lambda x: (x[0], x[0]/x[1]))\n",
        "\n",
        "# Top 5 segmentos con más clientes inactivos\n",
        "estadisticasPorSegmento.takeOrdered(5, key=lambda x: -x[1][0])"
      ],
      "metadata": {
        "colab": {
          "base_uri": "https://localhost:8080/"
        },
        "id": "ABqa8BSuyN8A",
        "outputId": "f18ecfbd-9a61-42d7-cc7c-dbb704ad9af5"
      },
      "execution_count": 119,
      "outputs": [
        {
          "output_type": "execute_result",
          "data": {
            "text/plain": [
              "[('regular', (27349, 0.10013583822436374)),\n",
              " ('premium', (9245, 0.10116650617175874)),\n",
              " ('budget', (8979, 0.09926921758742302))]"
            ]
          },
          "metadata": {},
          "execution_count": 119
        }
      ]
    },
    {
      "cell_type": "markdown",
      "source": [
        "## 8) Para cada segmento de cliente, calcular la cantidad total de clientes activos y el porcentaje que representan sobre el total de clientes de ese segmento. Finalmente, devolver el segmento con el mayor porcentaje de clientes activos."
      ],
      "metadata": {
        "id": "RJedzcQ9yZ6J"
      }
    },
    {
      "cell_type": "code",
      "source": [
        "def mapearActivo(cliente):\n",
        "    return (cliente.customer_segment, (1 if cliente.is_active else 0, 1))\n",
        "\n",
        "def combinarActivos(x, y):\n",
        "    return (x[0] + y[0], x[1] + y[1])\n",
        "\n",
        "def porcentajeActivos(activos, total):\n",
        "    return (activos / total) if total > 0 else 0\n",
        "\n",
        "def mayorPorcentaje(x, y):\n",
        "    return x if x[1][1] > y[1][1] else y\n",
        "\n",
        "# Pipeline\n",
        "activosPorSegmento = customersRDD.map(mapearActivo)\\\n",
        "    .reduceByKey(combinarActivos)\n",
        "\n",
        "estadisticasActivos = activosPorSegmento.mapValues(lambda x: (x[0], porcentajeActivos(x[0], x[1])))\n",
        "\n",
        "estadisticasActivos.reduce(mayorPorcentaje)"
      ],
      "metadata": {
        "colab": {
          "base_uri": "https://localhost:8080/"
        },
        "id": "1eP1SWGMyjlk",
        "outputId": "4601e473-6a66-4494-ffe7-77ecdc0be2a1"
      },
      "execution_count": 110,
      "outputs": [
        {
          "output_type": "execute_result",
          "data": {
            "text/plain": [
              "(' BUDGET', (136, 0.9315068493150684))"
            ]
          },
          "metadata": {},
          "execution_count": 110
        }
      ]
    }
  ]
}